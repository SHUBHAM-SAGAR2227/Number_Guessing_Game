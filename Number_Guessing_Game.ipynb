{
 "cells": [
  {
   "cell_type": "code",
   "execution_count": null,
   "id": "6afbeccb",
   "metadata": {},
   "outputs": [],
   "source": [
    "import random\n",
    "\n",
    "top_of_range = input(\"Type a number: \")\n",
    "\n",
    "if top_of_range.isdigit():\n",
    "    top_of_range = int(top_of_range)\n",
    "    \n",
    "    if top_of_range <=0:\n",
    "        print(\"Please type a number larger than 0 next time. \")\n",
    "        quit()\n",
    "else:\n",
    "    print(\"Please type a number next time.\")\n",
    "    quit()\n",
    "    \n",
    "random_number = random.randint(0,top_of_range)   #randint(a,b) both a and b is included\n",
    "guesses = 0\n",
    "\n",
    "while True:\n",
    "    guesses+=1\n",
    "    \n",
    "    user_guess = input(\"Make a guess:  \")\n",
    "    if user_guess.isdigit():\n",
    "        user_guess = int(user_guess)\n",
    "    else:\n",
    "        print(\"Please type a number next time.\")\n",
    "        continue\n",
    "        \n",
    "    if user_guess == random_number:\n",
    "        print(\"Yeah...!! You Got it!\" )\n",
    "        print(\"\\U0001f600\")\n",
    "        break\n",
    "    elif user_guess > random_number:\n",
    "        print(\"You were above the number \")\n",
    "        \n",
    "    else:\n",
    "        print(\"You were below the number\")\n",
    "        \n",
    "        \n",
    "        \n",
    "print(\"YOU GOT IN\", guesses , \"guesses\")"
   ]
  }
 ],
 "metadata": {
  "kernelspec": {
   "display_name": "Python 3 (ipykernel)",
   "language": "python",
   "name": "python3"
  },
  "language_info": {
   "codemirror_mode": {
    "name": "ipython",
    "version": 3
   },
   "file_extension": ".py",
   "mimetype": "text/x-python",
   "name": "python",
   "nbconvert_exporter": "python",
   "pygments_lexer": "ipython3",
   "version": "3.9.13"
  }
 },
 "nbformat": 4,
 "nbformat_minor": 5
}
